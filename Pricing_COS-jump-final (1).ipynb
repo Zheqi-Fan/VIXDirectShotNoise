{
 "cells": [
  {
   "cell_type": "code",
   "execution_count": 1,
   "id": "167fe388-2c21-4fa8-af75-7fe24fcc09c5",
   "metadata": {
    "tags": []
   },
   "outputs": [],
   "source": [
    "#IMPORTING THE LIBRARIES\n",
    "import random as rd\n",
    "import numpy as np \n",
    "import matplotlib.pyplot as plt \n",
    "import statistics as stat\n",
    "import math\n",
    "import pandas as pd\n",
    "from scipy import integrate as intg\n",
    "from scipy.stats import linregress\n",
    "import warnings\n",
    "import scipy.stats as si\n",
    "np.seterr(divide='ignore', invalid='ignore')\n",
    "import scipy.integrate as integrate\n",
    "import cmath\n",
    "import scipy\n",
    "warnings.filterwarnings('ignore')\n",
    "\n",
    "import scipy.stats as st\n",
    "import scipy.fft as fft\n",
    "import scipy.interpolate as interpolate\n",
    "import statsmodels.api as sm\n",
    "from tqdm import tqdm\n",
    "import time # to obtain the running time of some functions\n",
    "from toolkit import generic_CF, genericFFT, odeRK4"
   ]
  },
  {
   "cell_type": "markdown",
   "id": "4351abb4-da74-4fff-b3b5-22d9bd508bcf",
   "metadata": {},
   "source": [
    "## model"
   ]
  },
  {
   "cell_type": "markdown",
   "id": "a5bed070-5b22-4c44-a49b-8d7bc4f58ca8",
   "metadata": {},
   "source": [
    "### Shot noise"
   ]
  },
  {
   "cell_type": "code",
   "execution_count": 2,
   "id": "861580ad-28b6-46fe-a4d4-c7994bb7fddf",
   "metadata": {},
   "outputs": [],
   "source": [
    "## solve for ChF of our proposed dynamics\n",
    "def coef_A(tau, u, *var):\n",
    "    '''\n",
    "    Given u, compute A(tau,u) as a function of tau\n",
    "    For our model, the coef for X0 (vix0S)\n",
    "    '''\n",
    "    kappa = var[0]\n",
    "    return 1j * u * np.exp(-kappa*tau)\n",
    "\n",
    "\n",
    "def coef_E(u, *var):\n",
    "    '''\n",
    "    Given u, compute E(tau,u) as a function of tau\n",
    "    For our model, the coef for m0\n",
    "    Output:\n",
    "        E_tau_u_func: function of time t\n",
    "    '''\n",
    "    T, kappa, kappam, omegam = var\n",
    "    E_0_u = 0\n",
    "    nU = len(u)\n",
    "    \n",
    "    def RHS_E(t,y):\n",
    "        tmp1 = kappa*coef_A(t,u, kappa)\n",
    "        tmp2 = -kappam*y\n",
    "        # tmp3 = 0.5*omegam**2*y**2, # CIR\n",
    "        tmp3 = 0, # OU\n",
    "        return tmp1+tmp2+tmp3\n",
    "\n",
    "    time, E_tau_u = odeRK4(RHS_E, 0, T, E_0_u, 100, nU)\n",
    "    E_tau_u_func = interpolate.interp1d(time, E_tau_u, kind='cubic')\n",
    "    \n",
    "    return E_tau_u_func\n",
    "\n",
    "\n",
    "def coef_B(u, *var):\n",
    "    '''\n",
    "    Given u, compute B(tau,u) as a function of tau\n",
    "    For our model, the coef for v0\n",
    "    Output:\n",
    "        B_tau_u_func: function of time t\n",
    "    '''\n",
    "    T, kappa, kappai, omegai, rhoi = var\n",
    "    B_0_u = 0\n",
    "    nU = len(u)\n",
    "    \n",
    "    def RHS_B(t,y):\n",
    "        tmp1 = -kappai*y\n",
    "        tmp2 = 0.5*coef_A(t,u, kappa)**2\n",
    "        tmp3 = 0.5*omegai**2*y**2\n",
    "        tmp4 = rhoi*omegai*coef_A(t,u, kappa)*y\n",
    "        return tmp1+tmp2+tmp3+tmp4\n",
    "\n",
    "    time, B_tau_u = odeRK4(RHS_B, 0, T, B_0_u, 100, nU)\n",
    "    B_tau_u_func = interpolate.interp1d(time, B_tau_u, kind='cubic')\n",
    "    \n",
    "    return B_tau_u_func\n",
    "\n",
    "\n",
    "def coef_C(u, *var):\n",
    "    '''\n",
    "    Given u, compute C(tau,u) as a function of tau\n",
    "    For our model, the coef for L^s_0\n",
    "    Output:\n",
    "        C_tau_u_func: function of time t\n",
    "    '''\n",
    "    T, kappa, bs = var\n",
    "    C_0_u = 0\n",
    "    nU = len(u)\n",
    "    \n",
    "    def RHS_C(t,y):\n",
    "        tmp1 = -bs*coef_A(t,u, kappa)\n",
    "        tmp2 = -bs*y\n",
    "        return tmp1+tmp2\n",
    "\n",
    "    time, C_tau_u = odeRK4(RHS_C, 0, T, C_0_u, 100, nU)\n",
    "    C_tau_u_func = interpolate.interp1d(time, C_tau_u, kind='cubic')\n",
    "    \n",
    "    return C_tau_u_func\n",
    "\n",
    "\n",
    "def coef_D(u, *var):\n",
    "    '''\n",
    "    Given u, compute D(tau,u) as a function of tau\n",
    "    For our model, the coef for L^v_0\n",
    "    Output:\n",
    "        D_tau_u_func: function of time t\n",
    "    '''\n",
    "    T, kappa, kappa1, omega1, rho1, bv = var\n",
    "    D_0_u = 0\n",
    "    nU = len(u)\n",
    "    \n",
    "    coef_B1_func_ = coef_B(u, T, kappa, kappa1, omega1, rho1)\n",
    "    \n",
    "    def RHS_D(t,y):\n",
    "        tmp1 = -bv*coef_B1_func_(t)\n",
    "        tmp2 = -bv*y\n",
    "        return tmp1+tmp2\n",
    "\n",
    "    time, D_tau_u = odeRK4(RHS_D, 0, T, D_0_u, 100, nU)\n",
    "    D_tau_u_func = interpolate.interp1d(time, D_tau_u, kind='cubic')\n",
    "    \n",
    "    return D_tau_u_func\n",
    "\n",
    "\n",
    "def coef_F(u, *var):\n",
    "    '''\n",
    "    Given u, compute F(tau,u) as a function of tau\n",
    "    For our model, the const term\n",
    "    '''\n",
    "    T, kappa, kappam, thetam, omegam, kappa1, theta1, omega1, rho1, bs,bv, lamb, muJS, muJV = var\n",
    "    F_0_u = 0\n",
    "    nU = len(u)\n",
    "    \n",
    "    coef_B_func_ = coef_B(u, T, kappa, kappa1, omega1, rho1)\n",
    "    coef_C_func_ = coef_C(u, T, kappa, bs)\n",
    "    coef_D_func_ = coef_D(u, T, kappa, kappa1, omega1, rho1, bv)\n",
    "    coef_E_func_ = coef_E(u, T, kappa, kappam, omegam)\n",
    "    \n",
    "    def RHS_F(t,y):\n",
    "        tmp1 = kappa1*theta1*coef_B_func_(t) ## B for v\n",
    "        tmp2 = kappam*thetam*coef_E_func_(t)  ## E for m\n",
    "        tmp2 = tmp2 + 0.5*omegam**2*coef_E_func_(t)**2 ## m, additional adjustment for OU\n",
    "        ## for jump\n",
    "        jump_s = 1/(1 - (coef_A(t,u, kappa)+coef_C_func_(t)) * muJS)\n",
    "        jump_v = 1/(1 - (coef_B_func_(t)+coef_D_func_(t)) * muJV)\n",
    "        tmp3 = lamb * (jump_s*jump_v - 1) \n",
    "        return tmp1+tmp2+tmp3\n",
    "\n",
    "    time, F_tau_u = odeRK4(RHS_F, 0, T, F_0_u, 100, nU)\n",
    "    F_tau_u_func = interpolate.interp1d(time, F_tau_u, kind='cubic')\n",
    "    \n",
    "    return F_tau_u_func\n",
    "\n",
    "\n",
    "def ChF_Our(u,*var):\n",
    "    '''\n",
    "    ChF of log price XT under our model\n",
    "    Parameters:\n",
    "    params: model specific parameters, see Ye's research note\n",
    "    ini_set: initial value for VIX, v1, L^s,L^v, m\n",
    "    '''\n",
    "    \n",
    "    params = var[0]\n",
    "    T, kappa, kappam, thetam, omegam, kappa1, theta1, omega1, rho1, bs,bv, lamb, muJS, muJV = params\n",
    "    ini_set = var[1]\n",
    "    VIX0, v10, Ls0,Lv0, m0 = ini_set\n",
    "    vix0 = np.log(VIX0) ## as the model is for vix = log(VIX)\n",
    "    \n",
    "    coef_B_func_ = coef_B(u, T, kappa, kappa1, omega1, rho1)\n",
    "    coef_C_func_ = coef_C(u, T, kappa, bs)\n",
    "    coef_D_func_ = coef_D(u, T, kappa, kappa1, omega1, rho1, bv)\n",
    "    coef_E_func_ = coef_E(u, T, kappa, kappam, omegam)\n",
    "    coef_F_func_ = coef_F(u, T, kappa, kappam, thetam, omegam, kappa1, theta1, omega1, rho1, bs,bv, lamb, muJS, muJV)\n",
    "    \n",
    "    res = np.exp(coef_A(T,u, kappa)*vix0+\\\n",
    "                 coef_B_func_(T)*v10+\\\n",
    "                 coef_C_func_(T)*Ls0+\\\n",
    "                 coef_D_func_(T)*Lv0+\\\n",
    "                 coef_E_func_(T)*m0+\\\n",
    "                 coef_F_func_(T))\n",
    "    return res"
   ]
  },
  {
   "cell_type": "markdown",
   "id": "9b3bcd54",
   "metadata": {},
   "source": [
    "## <a id='toc1_1_'></a>[Pricing via COS](#toc0_)"
   ]
  },
  {
   "cell_type": "markdown",
   "id": "0b2b39f7-e53d-4ef6-9059-b729a5cba7c5",
   "metadata": {},
   "source": [
    "如果要写Lewis的话，最后的数值积分应该write by hand"
   ]
  },
  {
   "cell_type": "code",
   "execution_count": 3,
   "id": "acbf434c-8885-4040-b3dc-80ff18735001",
   "metadata": {
    "tags": []
   },
   "outputs": [],
   "source": [
    "def CallPutCoefficients(CP,a,b,k):\n",
    "    \"\"\" \n",
    "    Determine coefficients for Call or Put Prices \n",
    "    \"\"\"\n",
    "    if str(CP).lower()==\"c\" or str(CP).lower()==\"1\":                  \n",
    "        c = 0.0\n",
    "        d = b\n",
    "        coef = Chi_Psi(a,b,c,d,k)\n",
    "        Chi_k = coef[\"chi\"]\n",
    "        Psi_k = coef[\"psi\"]\n",
    "        if a < b and b < 0.0:\n",
    "            H_k = np.zeros([len(k),1])\n",
    "        else:\n",
    "            H_k      = 2.0 / (b - a) * (Chi_k - Psi_k)  \n",
    "        \n",
    "    elif str(CP).lower()==\"p\" or str(CP).lower()==\"-1\":\n",
    "        c = a\n",
    "        d = 0.0\n",
    "        coef = Chi_Psi(a,b,c,d,k)\n",
    "        Chi_k = coef[\"chi\"]\n",
    "        Psi_k = coef[\"psi\"]\n",
    "        H_k      = 2.0 / (b - a) * (- Chi_k + Psi_k)               \n",
    "    \n",
    "    return H_k  \n",
    "\n",
    "\n",
    "def Chi_Psi(a,b,c,d,k):\n",
    "    psi = np.sin(k * np.pi * (d - a) / (b - a)) - np.sin(k * np.pi * (c - a)/(b - a))\n",
    "    psi[1:] = psi[1:] * (b - a) / (k[1:] * np.pi)\n",
    "    psi[0] = d - c\n",
    "    \n",
    "    chi = 1.0 / (1.0 + np.power((k * np.pi / (b - a)) , 2.0)) \n",
    "    expr1 = np.cos(k * np.pi * (d - a)/(b - a)) * np.exp(d)  - np.cos(k * np.pi \n",
    "                  * (c - a) / (b - a)) * np.exp(c)\n",
    "    expr2 = k * np.pi / (b - a) * np.sin(k * np.pi * \n",
    "                        (d - a) / (b - a))   - k * np.pi / (b - a) * np.sin(k \n",
    "                        * np.pi * (c - a) / (b - a)) * np.exp(c)\n",
    "    chi = chi * (expr1 + expr2)\n",
    "    \n",
    "    value = {\"chi\":chi,\"psi\":psi }\n",
    "    return value\n",
    "\n",
    "\n",
    "## Fourier COS method for Option Pricing\n",
    "## can simutaneously process a set of strike prices\n",
    "def genericCOS(r,tau,params,ini_set,CP,K,N,L):\n",
    "    # cf      - characteristic function as a functon\n",
    "    # CP      - C for call and P for put\n",
    "    # ini_set - Initial stock price, initial v0, etc\n",
    "    # N       - Number of expansion terms\n",
    "    # L       - size of truncation domain (typ.:L=8 or L=10)  \n",
    "    # K       - can be a vector, strike price\n",
    "        \n",
    "    # reshape K to a column vector\n",
    "    if isinstance(K, list):\n",
    "        K = K\n",
    "    else:\n",
    "        K = [K]\n",
    "    K = np.array(K).reshape([len(K),1])\n",
    "    \n",
    "    # assigning i=sqrt(-1)\n",
    "    i = 1j \n",
    "    \n",
    "    S0 = ini_set[0]\n",
    "    x0 = np.log(S0 / K)   \n",
    "    \n",
    "    # truncation domain\n",
    "    a = 0.0 - L * np.sqrt(tau)\n",
    "    b = 0.0 + L * np.sqrt(tau)\n",
    "\n",
    "    # sumation from k = 0 to k=N-1\n",
    "    k = np.linspace(0,N-1,N).reshape([N,1])  \n",
    "    u = k * np.pi / (b - a);\n",
    "    ## reshape u to be (128, ) so that our ChF can process\n",
    "    u = u.reshape([-1])\n",
    "\n",
    "    # Determine coefficients for Put Prices  \n",
    "    H_k = CallPutCoefficients(CP,a,b,k)\n",
    "       \n",
    "    mat = np.exp(i * np.outer((x0 - a) , u))\n",
    "\n",
    "    cf = lambda u: ChF_Our(u, params,ini_set) * np.exp(-1j*np.log(S0)*u) \n",
    "    ## reshape cf(u) to be (128, 1)\n",
    "    cf_u = cf(u)\n",
    "    temp = cf_u.reshape([-1,1]) * H_k\n",
    "    # temp = cf(u) * H_k\n",
    "    temp[0] = 0.5 * temp[0]    \n",
    "    \n",
    "    ## now value is a column vector\n",
    "    value = np.exp(-r * tau) * K * np.real(mat.dot(temp))\n",
    "         \n",
    "    return value.reshape([-1])"
   ]
  },
  {
   "cell_type": "code",
   "execution_count": 4,
   "id": "2323efd3-e76d-40be-b76f-3238318cc1d8",
   "metadata": {},
   "outputs": [
    {
     "name": "stdout",
     "output_type": "stream",
     "text": [
      "CPU times: user 332 ms, sys: 3.63 ms, total: 335 ms\n",
      "Wall time: 328 ms\n"
     ]
    },
    {
     "data": {
      "text/plain": [
       "1.5381"
      ]
     },
     "execution_count": 4,
     "metadata": {},
     "output_type": "execute_result"
    }
   ],
   "source": [
    "%%time\n",
    "r,K, T, kappa = 0.03,40, 90/360, 5\n",
    "kappam, thetam, omegam = 2.0, 3.0, 0.25\n",
    "kappa1, theta1, omega1, rho1 = 2.0, 2.0, 3.0, 0.8 \n",
    "bs,bv = 0.2,0.05\n",
    "lamb, muJS, muJV = 1.5, 0.2, 0.2\n",
    "params = [T, kappa, kappam, thetam, omegam, kappa1, theta1, omega1, rho1, bs,bv, lamb, muJS, muJV]\n",
    "\n",
    "VIX_0, v10, Ls0,Lv0, m0 = 40, 0.64, 0.,0., 3\n",
    "ini_set = [VIX_0, v10, Ls0,Lv0, m0]\n",
    "CP = \"c\"\n",
    "\n",
    "## COS setting\n",
    "N = 2**7\n",
    "L = 10\n",
    "\n",
    "call_cos = genericCOS(r,T,params,ini_set,CP,K,N,L)\n",
    "np.round(call_cos[0],4)"
   ]
  },
  {
   "cell_type": "code",
   "execution_count": 10,
   "id": "405eed56-523e-44fc-bd15-66181124c486",
   "metadata": {},
   "outputs": [
    {
     "name": "stdout",
     "output_type": "stream",
     "text": [
      "CPU times: user 308 ms, sys: 0 ns, total: 308 ms\n",
      "Wall time: 302 ms\n"
     ]
    },
    {
     "data": {
      "text/plain": [
       "1.176"
      ]
     },
     "execution_count": 10,
     "metadata": {},
     "output_type": "execute_result"
    }
   ],
   "source": [
    "%%time\n",
    "r,K, T, kappa = 0.03,40, 90/360, 5\n",
    "kappam, thetam, omegam = 2.0, 3.0, 0.25\n",
    "kappa1, theta1, omega1, rho1 = 2.0, 2.0, 3.0, 0.8 \n",
    "bs,bv = 300,0.05\n",
    "lamb, muJS, muJV = 1.5, 0.2, 0.2\n",
    "params = [T, kappa, kappam, thetam, omegam, kappa1, theta1, omega1, rho1, bs,bv, lamb, muJS, muJV]\n",
    "\n",
    "VIX_0, v10, Ls0,Lv0, m0 = 40, 0.64, 0.,0., 3\n",
    "ini_set = [VIX_0, v10, Ls0,Lv0, m0]\n",
    "CP = \"c\"\n",
    "\n",
    "## COS setting\n",
    "N = 2**7\n",
    "L = 10\n",
    "\n",
    "call_cos = genericCOS(r,T,params,ini_set,CP,K,N,L)\n",
    "np.round(call_cos[0],4)"
   ]
  },
  {
   "cell_type": "markdown",
   "id": "616150e3",
   "metadata": {},
   "source": [
    "### <a id='toc1_1_1_'></a>[encapsule](#toc0_)"
   ]
  },
  {
   "cell_type": "code",
   "execution_count": 5,
   "id": "1e369f85-60bc-4919-869e-839e94d9473f",
   "metadata": {},
   "outputs": [],
   "source": [
    "def Call_Pricer_COS(r, T, K, params, ini_set):\n",
    "    '''\n",
    "    params: T, kappa, kappam, thetam, omegam, kappa1, theta1, omega1, rho1, bs,bv, lamb, muJS, muJV\n",
    "    ini_set: initial value of state variables\n",
    "    '''\n",
    "    ## COS setting\n",
    "    N, L = 2**7, 10\n",
    "    call_cos = genericCOS(r,T,params,ini_set,CP,K,N,L)\n",
    "    return np.round(call_cos[0], 4)"
   ]
  },
  {
   "cell_type": "code",
   "execution_count": 6,
   "id": "d6ee6bc5-084a-48db-807d-29e9425208f0",
   "metadata": {},
   "outputs": [
    {
     "data": {
      "text/plain": [
       "2.1304"
      ]
     },
     "execution_count": 6,
     "metadata": {},
     "output_type": "execute_result"
    }
   ],
   "source": [
    "Call_Pricer_COS(r, T, 35, params, ini_set)"
   ]
  },
  {
   "cell_type": "code",
   "execution_count": 7,
   "id": "c03d7890-7bf9-4b90-9ad4-1b0abe637659",
   "metadata": {},
   "outputs": [
    {
     "data": {
      "text/plain": [
       "1.5381"
      ]
     },
     "execution_count": 7,
     "metadata": {},
     "output_type": "execute_result"
    }
   ],
   "source": [
    "Call_Pricer_COS(r, T, 40, params, ini_set)"
   ]
  },
  {
   "cell_type": "code",
   "execution_count": 13,
   "id": "c0621c90-6311-4f71-a5ba-b1afc97ce6b7",
   "metadata": {},
   "outputs": [
    {
     "name": "stderr",
     "output_type": "stream",
     "text": [
      "  9%|▉         | 1/11 [00:00<00:02,  4.32it/s]"
     ]
    },
    {
     "name": "stdout",
     "output_type": "stream",
     "text": [
      "Strike: 30.0 call price:  3.0784\n"
     ]
    },
    {
     "name": "stderr",
     "output_type": "stream",
     "text": [
      " 18%|█▊        | 2/11 [00:00<00:02,  4.29it/s]"
     ]
    },
    {
     "name": "stdout",
     "output_type": "stream",
     "text": [
      "Strike: 35.0 call price:  2.1304\n"
     ]
    },
    {
     "name": "stderr",
     "output_type": "stream",
     "text": [
      " 27%|██▋       | 3/11 [00:00<00:01,  4.19it/s]"
     ]
    },
    {
     "name": "stdout",
     "output_type": "stream",
     "text": [
      "Strike: 40.0 call price:  1.5381\n"
     ]
    },
    {
     "name": "stderr",
     "output_type": "stream",
     "text": [
      " 36%|███▋      | 4/11 [00:00<00:01,  4.22it/s]"
     ]
    },
    {
     "name": "stdout",
     "output_type": "stream",
     "text": [
      "Strike: 45.0 call price:  1.1485\n"
     ]
    },
    {
     "name": "stderr",
     "output_type": "stream",
     "text": [
      " 45%|████▌     | 5/11 [00:01<00:01,  4.23it/s]"
     ]
    },
    {
     "name": "stdout",
     "output_type": "stream",
     "text": [
      "Strike: 50.0 call price:  0.8815\n"
     ]
    },
    {
     "name": "stderr",
     "output_type": "stream",
     "text": [
      " 55%|█████▍    | 6/11 [00:01<00:01,  4.26it/s]"
     ]
    },
    {
     "name": "stdout",
     "output_type": "stream",
     "text": [
      "Strike: 55.0 call price:  0.6925\n"
     ]
    },
    {
     "name": "stderr",
     "output_type": "stream",
     "text": [
      " 64%|██████▎   | 7/11 [00:01<00:00,  4.26it/s]"
     ]
    },
    {
     "name": "stdout",
     "output_type": "stream",
     "text": [
      "Strike: 60.0 call price:  0.5542\n"
     ]
    },
    {
     "name": "stderr",
     "output_type": "stream",
     "text": [
      " 73%|███████▎  | 8/11 [00:01<00:00,  4.28it/s]"
     ]
    },
    {
     "name": "stdout",
     "output_type": "stream",
     "text": [
      "Strike: 65.0 call price:  0.4513\n"
     ]
    },
    {
     "name": "stderr",
     "output_type": "stream",
     "text": [
      " 82%|████████▏ | 9/11 [00:02<00:00,  4.28it/s]"
     ]
    },
    {
     "name": "stdout",
     "output_type": "stream",
     "text": [
      "Strike: 70.0 call price:  0.3723\n"
     ]
    },
    {
     "name": "stderr",
     "output_type": "stream",
     "text": [
      " 91%|█████████ | 10/11 [00:02<00:00,  4.25it/s]"
     ]
    },
    {
     "name": "stdout",
     "output_type": "stream",
     "text": [
      "Strike: 75.0 call price:  0.3113\n"
     ]
    },
    {
     "name": "stderr",
     "output_type": "stream",
     "text": [
      "100%|██████████| 11/11 [00:02<00:00,  4.25it/s]"
     ]
    },
    {
     "name": "stdout",
     "output_type": "stream",
     "text": [
      "Strike: 80.0 call price:  0.2627\n"
     ]
    },
    {
     "name": "stderr",
     "output_type": "stream",
     "text": [
      "\n"
     ]
    }
   ],
   "source": [
    "K_ = np.linspace(30, 80, 11)\n",
    "for i in tqdm(range(len(K_))):\n",
    "    price_ = Call_Pricer_COS(r, T, K_[i], params, ini_set)\n",
    "    print(\"Strike: \"+str(K_[i]), \"call price: \", str(price_))"
   ]
  },
  {
   "cell_type": "code",
   "execution_count": null,
   "id": "1b2b3471-e56a-49f2-8063-1c5cb8e88244",
   "metadata": {},
   "outputs": [],
   "source": []
  },
  {
   "cell_type": "code",
   "execution_count": null,
   "id": "1f8be7b3-b656-49b2-ab13-d146f6fc9622",
   "metadata": {},
   "outputs": [],
   "source": []
  },
  {
   "cell_type": "code",
   "execution_count": null,
   "id": "78ab793e-2a55-4c4a-9d3b-ada2152fda8e",
   "metadata": {},
   "outputs": [],
   "source": []
  },
  {
   "cell_type": "markdown",
   "id": "6f677807",
   "metadata": {},
   "source": [
    "## <a id='toc1_2_'></a>[Pricing via MC](#toc0_)"
   ]
  },
  {
   "cell_type": "code",
   "execution_count": 14,
   "id": "b58e2fc9-6987-4676-87d6-9364354c01f4",
   "metadata": {},
   "outputs": [],
   "source": [
    "def GeneratePathsEuler(NoOfPaths,NoOfSteps, params, ini_set, jump_param):\n",
    "    '''\n",
    "    Monte Carlo Simulation for our model as sanity check for FFT pricing method\n",
    "    simulate vix_t = log VIX_t\n",
    "    kappa: speed of mean-reverting\n",
    "    gamma: vol of vol\n",
    "    rho: correlation between 2 BMs\n",
    "    theta: long-term variance\n",
    "    '''\n",
    "    T, kappa, kappam, thetam, omegam, kappa1, theta1, omega1, rho1, bs,bv = params\n",
    "    S_0, v10, Ls0,Lv0, m0 = ini_set\n",
    "    muJ, eta, muJv = jump_param\n",
    "    \n",
    "    time = np.zeros([NoOfSteps+1])\n",
    "    dt = T / float(NoOfSteps)\n",
    "\n",
    "    ## diffusion terms\n",
    "    B  = np.random.normal(0.0,1.0,[NoOfPaths,NoOfSteps])  # BM for central tendency m\n",
    "    Z1 = np.random.normal(0.0,1.0,[NoOfPaths,NoOfSteps]) # BM for vix (log VIX)\n",
    "    Z3 = np.random.normal(0.0,1.0,[NoOfPaths,NoOfSteps]) # uncorrelated BM for v1\n",
    "    Z_3 = np.zeros_like(Z3) ## correlated BM for v1\n",
    "    \n",
    "    ## jump terms\n",
    "    ZPois = np.random.poisson(eta*dt,[NoOfPaths,NoOfSteps])    \n",
    "    J = np.random.exponential(muJ,  [NoOfPaths,NoOfSteps])\n",
    "    Jv= np.random.exponential(muJv,  [NoOfPaths,NoOfSteps])\n",
    "    \n",
    "    ## initiate paths for 4 processes\n",
    "    V1 = np.zeros([NoOfPaths, NoOfSteps+1])\n",
    "    m = np.zeros([NoOfPaths, NoOfSteps+1])\n",
    "    X = np.zeros([NoOfPaths, NoOfSteps+1])\n",
    "    Ls = np.zeros([NoOfPaths, NoOfSteps+1]) ## correlated BM for L^s\n",
    "    Lv = np.zeros([NoOfPaths, NoOfSteps+1]) ## correlated BM for L^v\n",
    "    \n",
    "    V1[:,0] = v10\n",
    "    m[:,0] = m0\n",
    "    X[:,0] = np.log(S_0)\n",
    "    Ls[:,0] = Ls0\n",
    "    Lv[:,0] = Lv0\n",
    "    \n",
    "    for i in range(0, NoOfSteps):\n",
    "        Z_3[:,i] = rho1 * Z1[:,i] + np.sqrt(1.0-rho1**2)*Z3[:,i]\n",
    "        \n",
    "        # shot for variance\n",
    "        Lv[:,i+1] = Lv[:,i] - bv*Lv[:,i] * dt + Jv[:,i]*ZPois[:,i]\n",
    "        \n",
    "        # Truncated boundary condition\n",
    "        m[:, i+1] = m[:, i] + kappam*(thetam - m[:, i]) * dt + omegam * dt**0.5*B[:, i]\n",
    "        m[:, i+1] = np.maximum(m[:, i+1], 1e-6)\n",
    "        V1[:,i+1] = V1[:,i] + kappa1*(theta1 - V1[:,i]) * dt + omega1* np.sqrt(V1[:,i]) * dt**0.5*Z_3[:,i] + (Lv[:,i+1] - Lv[:,i])\n",
    "        V1[:,i+1] = np.maximum(V1[:,i+1], 1e-6)\n",
    "        \n",
    "        # shot noise for log VIX\n",
    "        Ls[:,i+1] = Ls[:,i] - bs*Ls[:,i] * dt + J[:, i]*ZPois[:,i]\n",
    "        \n",
    "        ## inclusion of co-Jumps\n",
    "        X[:,i+1] = X[:, i] + kappa *(m[:, i] - X[:, i]) * dt + np.sqrt(V1[:,i]) * dt**0.5*Z1[:,i] + (Ls[:,i+1] - Ls[:,i])\n",
    "        time[i+1] = time[i] + dt\n",
    "\n",
    "    # Compute exponent\n",
    "    S = np.exp(X)\n",
    "    return time, S, Ls, Lv"
   ]
  },
  {
   "cell_type": "code",
   "execution_count": 15,
   "id": "80e9d8a9-afd4-4253-b138-7bcdd6adde9e",
   "metadata": {},
   "outputs": [
    {
     "name": "stdout",
     "output_type": "stream",
     "text": [
      "Option via Monte Carlo: for strike 40 the option premium is 1.5357\n",
      "CPU times: user 12.2 s, sys: 432 ms, total: 12.7 s\n",
      "Wall time: 12.7 s\n"
     ]
    }
   ],
   "source": [
    "%%time\n",
    "## set random seed for reproducibility\n",
    "np.random.seed(10)\n",
    "\n",
    "## set parameters for numerical illustration\n",
    "r,K, T, kappa = 0.03,40, 90/360, 5\n",
    "kappam, thetam, omegam = 2.0, 3.0, 0.25\n",
    "kappa1, theta1, omega1, rho1 = 2.0, 2.0, 3.0, 0.8 \n",
    "bs,bv = 0.2, 0.05\n",
    "params = [T, kappa, kappam, thetam, omegam, kappa1, theta1, omega1, rho1, bs,bv]\n",
    "\n",
    "VIX_0, v10, Ls0,Lv0, m0 = 40, 0.64, 0.,0., 3\n",
    "ini_set = [VIX_0, v10, Ls0,Lv0, m0]\n",
    "\n",
    "muJS,eta,muJv = 0.2, 1.5, 0.2\n",
    "jump_param = [muJS,eta,muJv]\n",
    "\n",
    "NoOfSteps, NoOfPaths = 256, 100000 ## number of time steps and paths\n",
    "\n",
    "## main test\n",
    "t, VIX, Ls,Lv = GeneratePathsEuler(NoOfPaths,NoOfSteps, params, ini_set, jump_param)\n",
    "call_mc = np.exp(-r*T)*np.mean(np.maximum(0, VIX[:,-1]-K))\n",
    "print(\"Option via Monte Carlo: for strike %s the option premium is %6.4f\" % (K, call_mc))"
   ]
  },
  {
   "cell_type": "markdown",
   "id": "742d3da8",
   "metadata": {},
   "source": [
    "### <a id='toc1_2_1_'></a>[encapsule](#toc0_)"
   ]
  },
  {
   "cell_type": "code",
   "execution_count": 21,
   "id": "8f4bdbdc-c49a-456f-b157-717d0d424de8",
   "metadata": {},
   "outputs": [],
   "source": [
    "def Call_Pricer_MC(r, T, K, params, ini_set, jump_param):\n",
    "    NoOfSteps, NoOfPaths = 256, 500000 ## number of time steps and paths\n",
    "    t, VIX,Ls,Lv = GeneratePathsEuler(NoOfPaths,NoOfSteps, params, ini_set, jump_param)\n",
    "    call_mc = np.exp(-r*T)*np.mean(np.maximum(0, VIX[:,-1]-K))\n",
    "    return call_mc"
   ]
  },
  {
   "cell_type": "code",
   "execution_count": 122,
   "id": "0c46289b",
   "metadata": {},
   "outputs": [],
   "source": [
    "## set parameters for numerical illustration\n",
    "r, T, kappa = 0.03, 90/360, 5\n",
    "kappam, thetam, omegam = 2.0, 3.0, 0.25\n",
    "kappa1, theta1, omega1, rho1 = 2.0, 2.0, 3.0, 0.8 \n",
    "bs,bv = 0.2,0.05\n",
    "params = [T, kappa, kappam, thetam, omegam, kappa1, theta1, omega1, rho1, bs,bv]\n",
    "\n",
    "## ini_set\n",
    "VIX_0, v10, Ls0,Lv0, m0 = 40, 0.64, 0.,0., 3\n",
    "ini_set = [VIX_0, v10, Ls0,Lv0, m0]\n",
    "\n",
    "## jump_param\n",
    "muJS,eta,muJv = 0.2, 1.5, 0.2\n",
    "jump_param = [muJS,eta,muJv]"
   ]
  },
  {
   "cell_type": "markdown",
   "id": "cf734a47",
   "metadata": {},
   "source": [
    "### <a id='toc1_2_2_'></a>[testing case](#toc0_)"
   ]
  },
  {
   "cell_type": "code",
   "execution_count": null,
   "id": "2752ab91-8297-4423-8850-19e6659e8c77",
   "metadata": {},
   "outputs": [
    {
     "name": "stderr",
     "output_type": "stream",
     "text": [
      "  0%|          | 0/11 [00:00<?, ?it/s]"
     ]
    }
   ],
   "source": [
    "K_ = np.linspace(30,80,11)\n",
    "call_ = np.zeros_like(K_)\n",
    "for i in tqdm(range(len(call_))):\n",
    "    call_[i] = Call_Pricer_MC(r, T, K_[i], params, ini_set, jump_param)\n",
    "    print(call_[i])"
   ]
  },
  {
   "cell_type": "code",
   "execution_count": null,
   "id": "4beb56b7-8d7c-46c0-82f3-5300e2da5593",
   "metadata": {},
   "outputs": [
    {
     "name": "stderr",
     "output_type": "stream",
     "text": [
      "  0%|          | 0/10 [00:00<?, ?it/s]"
     ]
    }
   ],
   "source": [
    "K = 40\n",
    "call_ = np.zeros(10)\n",
    "for i in tqdm(range(len(call_))):\n",
    "    call_[i] = Call_Pricer_MC(r, T, K, params, ini_set, jump_param)\n",
    "np.mean(call_)"
   ]
  },
  {
   "cell_type": "code",
   "execution_count": null,
   "id": "ed598f2d-592c-4b0a-9675-a8e5bee67266",
   "metadata": {},
   "outputs": [],
   "source": [
    "K = 35\n",
    "call_ = np.zeros(10)\n",
    "for i in tqdm(range(len(call_))):\n",
    "    call_[i] = Call_Pricer_MC(r, T, K, params, ini_set, jump_param)\n",
    "np.mean(call_)"
   ]
  },
  {
   "cell_type": "code",
   "execution_count": null,
   "id": "6b4c3bcc-ea65-4d71-b22d-c7e8e5f0ddd8",
   "metadata": {},
   "outputs": [],
   "source": [
    "K = 45\n",
    "call_ = np.zeros(10)\n",
    "for i in tqdm(range(len(call_))):\n",
    "    call_[i] = Call_Pricer_MC(r, T, K, params, ini_set, jump_param)\n",
    "np.mean(call_)"
   ]
  },
  {
   "cell_type": "code",
   "execution_count": null,
   "id": "1f1b8c3e-6e70-4cff-8d8c-6dab881a32c2",
   "metadata": {},
   "outputs": [],
   "source": []
  },
  {
   "cell_type": "code",
   "execution_count": null,
   "id": "3223a7f6-ea17-43e4-87a3-85847e47ab90",
   "metadata": {},
   "outputs": [],
   "source": []
  },
  {
   "cell_type": "code",
   "execution_count": null,
   "id": "571fdc4a-2466-423a-9ddc-8dd46174645a",
   "metadata": {},
   "outputs": [],
   "source": []
  },
  {
   "cell_type": "markdown",
   "id": "cc92c4a2-a56f-43f5-a689-483c2c302aba",
   "metadata": {},
   "source": [
    "## INACTIVE, ChF, m with CIR"
   ]
  },
  {
   "cell_type": "code",
   "execution_count": null,
   "id": "bc4103af-7a26-44ff-be0a-14256b419b87",
   "metadata": {},
   "outputs": [],
   "source": [
    "## solve for ChF of our proposed dynamics\n",
    "def coef_A(tau, u, *var):\n",
    "    '''\n",
    "    Given u, compute A(tau,u) as a function of tau\n",
    "    For our model, the coef for X0 (vix0S)\n",
    "    '''\n",
    "    kappa = var[0]\n",
    "    return 1j * u * np.exp(-kappa*tau)\n",
    "\n",
    "\n",
    "def coef_E(u, *var):\n",
    "    '''\n",
    "    Given u, compute E(tau,u) as a function of tau\n",
    "    For our model, the coef for m0\n",
    "    Output:\n",
    "        E_tau_u_func: function of time t\n",
    "    '''\n",
    "    T, kappa, kappam, omegam = var\n",
    "    E_0_u = 0\n",
    "    nU = len(u)\n",
    "    \n",
    "    def RHS_E(t,y):\n",
    "        tmp1 = kappa*coef_A(t,u, kappa)\n",
    "        tmp2 = -kappam*y\n",
    "        tmp3 = 0.5*omegam**2*y**2\n",
    "        return tmp1+tmp2+tmp3\n",
    "\n",
    "    time, E_tau_u = odeRK4(RHS_E, 0, T, E_0_u, 100, nU)\n",
    "    E_tau_u_func = interpolate.interp1d(time, E_tau_u, kind='cubic')\n",
    "    \n",
    "    return E_tau_u_func\n",
    "\n",
    "\n",
    "def coef_B(u, *var):\n",
    "    '''\n",
    "    Given u, compute B(tau,u) as a function of tau\n",
    "    For our model, the coef for v0\n",
    "    Output:\n",
    "        B_tau_u_func: function of time t\n",
    "    '''\n",
    "    T, kappa, kappai, omegai, rhoi = var\n",
    "    B_0_u = 0\n",
    "    nU = len(u)\n",
    "    \n",
    "    def RHS_B(t,y):\n",
    "        tmp1 = -kappai*y\n",
    "        tmp2 = 0.5*coef_A(t,u, kappa)**2\n",
    "        tmp3 = 0.5*omegai**2*y**2\n",
    "        tmp4 = rhoi*omegai*coef_A(t,u, kappa)*y\n",
    "        return tmp1+tmp2+tmp3+tmp4\n",
    "\n",
    "    time, B_tau_u = odeRK4(RHS_B, 0, T, B_0_u, 100, nU)\n",
    "    B_tau_u_func = interpolate.interp1d(time, B_tau_u, kind='cubic')\n",
    "    \n",
    "    return B_tau_u_func\n",
    "\n",
    "\n",
    "def coef_C(u, *var):\n",
    "    '''\n",
    "    Given u, compute C(tau,u) as a function of tau\n",
    "    For our model, the coef for L^s_0\n",
    "    Output:\n",
    "        C_tau_u_func: function of time t\n",
    "    '''\n",
    "    T, kappa, bs = var\n",
    "    C_0_u = 0\n",
    "    nU = len(u)\n",
    "    \n",
    "    def RHS_C(t,y):\n",
    "        tmp1 = -bs*coef_A(t,u, kappa)\n",
    "        tmp2 = -bs*y\n",
    "        return tmp1+tmp2\n",
    "\n",
    "    time, C_tau_u = odeRK4(RHS_C, 0, T, C_0_u, 100, nU)\n",
    "    C_tau_u_func = interpolate.interp1d(time, C_tau_u, kind='cubic')\n",
    "    \n",
    "    return C_tau_u_func\n",
    "\n",
    "\n",
    "def coef_D(u, *var):\n",
    "    '''\n",
    "    Given u, compute D(tau,u) as a function of tau\n",
    "    For our model, the coef for L^v_0\n",
    "    Output:\n",
    "        D_tau_u_func: function of time t\n",
    "    '''\n",
    "    T, kappa, kappa1, omega1, rho1, bv = var\n",
    "    D_0_u = 0\n",
    "    nU = len(u)\n",
    "    \n",
    "    coef_B1_func_ = coef_B(u, T, kappa, kappa1, omega1, rho1)\n",
    "    \n",
    "    def RHS_D(t,y):\n",
    "        tmp1 = -bv*coef_B1_func_(t)\n",
    "        tmp2 = -bv*y\n",
    "        return tmp1+tmp2\n",
    "\n",
    "    time, D_tau_u = odeRK4(RHS_D, 0, T, D_0_u, 100, nU)\n",
    "    D_tau_u_func = interpolate.interp1d(time, D_tau_u, kind='cubic')\n",
    "    \n",
    "    return D_tau_u_func\n",
    "\n",
    "\n",
    "def coef_F(u, *var):\n",
    "    '''\n",
    "    Given u, compute F(tau,u) as a function of tau\n",
    "    For our model, the const term\n",
    "    '''\n",
    "    T, kappa, kappam, thetam, omegam, kappa1, theta1, omega1, rho1, bs,bv, lamb, muJS, muJV = var\n",
    "    F_0_u = 0\n",
    "    nU = len(u)\n",
    "    \n",
    "    coef_B_func_ = coef_B(u, T, kappa, kappa1, omega1, rho1)\n",
    "    coef_C_func_ = coef_C(u, T, kappa, bs)\n",
    "    coef_D_func_ = coef_D(u, T, kappa, kappa1, omega1, rho1, bv)\n",
    "    coef_E_func_ = coef_E(u, T, kappa, kappam, omegam)\n",
    "    \n",
    "    def RHS_F(t,y):\n",
    "        tmp1 = kappa1*theta1*coef_B_func_(t) ## B for v\n",
    "        tmp2 = kappam*thetam*coef_E_func_(t)  ## E for m\n",
    "        ## for jump\n",
    "        jump_s = 1/(1 - (coef_A(t,u, kappa)+coef_C_func_(t)) * muJS)\n",
    "        jump_v = 1/(1 - (coef_B_func_(t)+coef_D_func_(t)) * muJV)\n",
    "        tmp3 = lamb * (jump_s*jump_v - 1) \n",
    "        return tmp1+tmp2+tmp3\n",
    "\n",
    "    time, F_tau_u = odeRK4(RHS_F, 0, T, F_0_u, 100, nU)\n",
    "    F_tau_u_func = interpolate.interp1d(time, F_tau_u, kind='cubic')\n",
    "    \n",
    "    return F_tau_u_func\n",
    "\n",
    "\n",
    "def ChF_Our(u,*var):\n",
    "    '''\n",
    "    ChF of log price XT under our model\n",
    "    Parameters:\n",
    "    params: model specific parameters, see Ye's research note\n",
    "    ini_set: initial value for VIX, v1, L^s,L^v, m\n",
    "    '''\n",
    "    \n",
    "    params = var[0]\n",
    "    T, kappa, kappam, thetam, omegam, kappa1, theta1, omega1, rho1, bs,bv, lamb, muJS, muJV = params\n",
    "    ini_set = var[1]\n",
    "    VIX0, v10, Ls0,Lv0, m0 = ini_set\n",
    "    vix0 = np.log(VIX0) ## as the model is for vix = log(VIX)\n",
    "    \n",
    "    coef_B_func_ = coef_B(u, T, kappa, kappa1, omega1, rho1)\n",
    "    coef_C_func_ = coef_C(u, T, kappa, bs)\n",
    "    coef_D_func_ = coef_D(u, T, kappa, kappa1, omega1, rho1, bv)\n",
    "    coef_E_func_ = coef_E(u, T, kappa, kappam, omegam)\n",
    "    coef_F_func_  = coef_F(u, T, kappa, kappam, thetam, omegam, kappa1, theta1, omega1, rho1, bs,bv, lamb, muJS, muJV)\n",
    "    \n",
    "    res = np.exp(coef_A(T,u, kappa)*vix0+\\\n",
    "                 coef_B_func_(T)*v10+\\\n",
    "                 coef_C_func_(T)*Ls0+\\\n",
    "                 coef_D_func_(T)*Lv0+\\\n",
    "                 coef_E_func_(T)*m0+\\\n",
    "                 coef_F_func_(T))\n",
    "    return res"
   ]
  }
 ],
 "metadata": {
  "kernelspec": {
   "display_name": "myconda",
   "language": "python",
   "name": "myconda"
  },
  "language_info": {
   "codemirror_mode": {
    "name": "ipython",
    "version": 3
   },
   "file_extension": ".py",
   "mimetype": "text/x-python",
   "name": "python",
   "nbconvert_exporter": "python",
   "pygments_lexer": "ipython3",
   "version": "3.9.12"
  }
 },
 "nbformat": 4,
 "nbformat_minor": 5
}
