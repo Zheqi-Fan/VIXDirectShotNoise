{
 "cells": [
  {
   "cell_type": "code",
   "execution_count": 3,
   "id": "c7f729ed-e05b-4825-9a12-abc9737e566a",
   "metadata": {},
   "outputs": [],
   "source": [
    "import numpy as np\n",
    "import scipy.stats as si\n",
    "\n",
    "def Black76_Call(FuturesPrice, StrikePrice, Maturity, RiskFreeRate, Volatility):\n",
    "    '''\n",
    "    https://medium.com/@polanitzer/black-1976-model-in-python-predict-european-option-prices-on-bonds-commodities-and-futures-6bca56c2e6ac\n",
    "    \n",
    "    verified by Matlab function \"blkprice\"\n",
    "    '''\n",
    "    d1 = (np.log(FuturesPrice/StrikePrice)+(0.5*Volatility**2)*Maturity)/(Volatility*np.sqrt(Maturity))\n",
    "    d2 = (np.log(FuturesPrice/StrikePrice)-(0.5*Volatility**2)*Maturity)/(Volatility*np.sqrt(Maturity))\n",
    "    BlackCall = np.exp(-RiskFreeRate*Maturity)*(FuturesPrice*si.norm.cdf(d1,0.0,1.0)-StrikePrice*si.norm.cdf(d2,0.0,1.0))\n",
    "    return(BlackCall)\n",
    "\n",
    "def Black76_Put(FuturesPrice, StrikePrice, Maturity, RiskFreeRate, Volatility):\n",
    "    '''\n",
    "    https://medium.com/@polanitzer/black-1976-model-in-python-predict-european-option-prices-on-bonds-commodities-and-futures-6bca56c2e6ac\n",
    "    '''\n",
    "    d1 = (np.log(FuturesPrice/StrikePrice)+(0.5*Volatility**2)*Maturity)/(Volatility*np.sqrt(Maturity))\n",
    "    d2 = (np.log(FuturesPrice/StrikePrice)-(0.5*Volatility**2)*Maturity)/(Volatility*np.sqrt(Maturity))\n",
    "    BlackPut = np.exp(-RiskFreeRate*Maturity)*(StrikePrice*si.norm.cdf(-d2,0.0,1.0)-FuturesPrice*si.norm.cdf(-d1,0.0,1.0))\n",
    "    return(BlackPut)\n",
    "\n",
    "def Black76_IV(S0,K,T,r,cev_price):\n",
    "    '''\n",
    "    verified by Matlab function \"blkimpv\"\n",
    "    '''\n",
    "    low, high = 1e-5, 3.0\n",
    "    guess = (low + high)/2.0\n",
    "    price = Black76_Call(S0,K,T,r,guess)\n",
    "    counter = 1\n",
    "    while (abs(price - cev_price) > 1e-5) and (counter <= 100):\n",
    "        if price < cev_price:\n",
    "            low = guess\n",
    "        else :\n",
    "            high = guess \n",
    "        guess = (low + high)/2.0\n",
    "        price = Black76_Call(S0,K,T,r,guess)\n",
    "        counter += 1\n",
    "    return np.around(guess, 4)"
   ]
  },
  {
   "cell_type": "code",
   "execution_count": 4,
   "id": "f8ae79fd-9a16-49f7-8cea-ca687710c597",
   "metadata": {},
   "outputs": [
    {
     "data": {
      "text/plain": [
       "3.7982036280777076"
      ]
     },
     "execution_count": 4,
     "metadata": {},
     "output_type": "execute_result"
    }
   ],
   "source": [
    "FuturesPrice = 42\n",
    "StrikePrice = 42\n",
    "Maturity = 1.5\n",
    "RiskFreeRate = 0.05\n",
    "Volatility = 0.20\n",
    "\n",
    "Black76_Call(FuturesPrice, StrikePrice, Maturity, RiskFreeRate, Volatility)"
   ]
  },
  {
   "cell_type": "code",
   "execution_count": null,
   "id": "2038466b-5f01-40ce-9ab8-85ac79e102b0",
   "metadata": {},
   "outputs": [],
   "source": []
  }
 ],
 "metadata": {
  "kernelspec": {
   "display_name": "myconda",
   "language": "python",
   "name": "myconda"
  },
  "language_info": {
   "codemirror_mode": {
    "name": "ipython",
    "version": 3
   },
   "file_extension": ".py",
   "mimetype": "text/x-python",
   "name": "python",
   "nbconvert_exporter": "python",
   "pygments_lexer": "ipython3",
   "version": "3.9.12"
  }
 },
 "nbformat": 4,
 "nbformat_minor": 5
}
